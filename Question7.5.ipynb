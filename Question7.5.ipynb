{
 "cells": [
  {
   "cell_type": "markdown",
   "id": "7b7fded1-80b0-4572-9816-ae9f9a486622",
   "metadata": {},
   "source": [
    "## Question 7.5\n",
    "### Sorting algorithm via MapReduce"
   ]
  },
  {
   "cell_type": "markdown",
   "id": "3cdb7567-ecdd-4ab6-aec7-850056e46f83",
   "metadata": {},
   "source": [
    "Load file from bucket as a RDD object:"
   ]
  },
  {
   "cell_type": "code",
   "execution_count": 185,
   "id": "c763734d-1385-4154-964d-4c053560e6b5",
   "metadata": {
    "execution": {
     "iopub.execute_input": "2022-11-20T20:14:03.684394Z",
     "iopub.status.busy": "2022-11-20T20:14:03.684149Z",
     "iopub.status.idle": "2022-11-20T20:14:03.752091Z",
     "shell.execute_reply": "2022-11-20T20:14:03.751402Z",
     "shell.execute_reply.started": "2022-11-20T20:14:03.684368Z"
    },
    "tags": []
   },
   "outputs": [
    {
     "data": {
      "application/vnd.jupyter.widget-view+json": {
       "model_id": "d173bdf7fe474834bc67329e41573434",
       "version_major": 2,
       "version_minor": 0
      },
      "text/plain": [
       "VBox()"
      ]
     },
     "metadata": {},
     "output_type": "display_data"
    },
    {
     "data": {
      "application/vnd.jupyter.widget-view+json": {
       "model_id": "",
       "version_major": 2,
       "version_minor": 0
      },
      "text/plain": [
       "FloatProgress(value=0.0, bar_style='info', description='Progress:', layout=Layout(height='25px', width='50%'),…"
      ]
     },
     "metadata": {},
     "output_type": "display_data"
    }
   ],
   "source": [
    "applicants = sc.textFile('s3://admhw3/ApplicantsInfo.txt')"
   ]
  },
  {
   "cell_type": "markdown",
   "id": "08602950-5170-41a5-809c-fd9da1585327",
   "metadata": {},
   "source": [
    "Count number of elements (rows):"
   ]
  },
  {
   "cell_type": "code",
   "execution_count": 186,
   "id": "e14e3a33-85c1-4bb5-b3d2-98e294a3a3e0",
   "metadata": {
    "execution": {
     "iopub.execute_input": "2022-11-20T20:14:22.708198Z",
     "iopub.status.busy": "2022-11-20T20:14:22.707958Z",
     "iopub.status.idle": "2022-11-20T20:14:34.010040Z",
     "shell.execute_reply": "2022-11-20T20:14:34.009363Z",
     "shell.execute_reply.started": "2022-11-20T20:14:22.708173Z"
    },
    "tags": []
   },
   "outputs": [
    {
     "data": {
      "application/vnd.jupyter.widget-view+json": {
       "model_id": "bef4f772032349a4b3586c517fc6b73a",
       "version_major": 2,
       "version_minor": 0
      },
      "text/plain": [
       "VBox()"
      ]
     },
     "metadata": {},
     "output_type": "display_data"
    },
    {
     "data": {
      "application/vnd.jupyter.widget-view+json": {
       "model_id": "",
       "version_major": 2,
       "version_minor": 0
      },
      "text/plain": [
       "FloatProgress(value=0.0, bar_style='info', description='Progress:', layout=Layout(height='25px', width='50%'),…"
      ]
     },
     "metadata": {},
     "output_type": "display_data"
    },
    {
     "name": "stdout",
     "output_type": "stream",
     "text": [
      "50001"
     ]
    }
   ],
   "source": [
    "applicants.count()"
   ]
  },
  {
   "cell_type": "markdown",
   "id": "189fbeb1-6ca4-424c-a97a-2671c9cd31ce",
   "metadata": {},
   "source": [
    "Check and save dimensions of `applicants`:"
   ]
  },
  {
   "cell_type": "code",
   "execution_count": 187,
   "id": "0997eb76-47b7-4b91-b97e-30d03771cb42",
   "metadata": {
    "execution": {
     "iopub.execute_input": "2022-11-20T20:17:26.210082Z",
     "iopub.status.busy": "2022-11-20T20:17:26.209826Z",
     "iopub.status.idle": "2022-11-20T20:17:37.503651Z",
     "shell.execute_reply": "2022-11-20T20:17:37.502892Z",
     "shell.execute_reply.started": "2022-11-20T20:17:26.210037Z"
    },
    "tags": []
   },
   "outputs": [
    {
     "data": {
      "application/vnd.jupyter.widget-view+json": {
       "model_id": "016ec31c2d1a444099567fa0402bccfa",
       "version_major": 2,
       "version_minor": 0
      },
      "text/plain": [
       "VBox()"
      ]
     },
     "metadata": {},
     "output_type": "display_data"
    },
    {
     "data": {
      "application/vnd.jupyter.widget-view+json": {
       "model_id": "",
       "version_major": 2,
       "version_minor": 0
      },
      "text/plain": [
       "FloatProgress(value=0.0, bar_style='info', description='Progress:', layout=Layout(height='25px', width='50%'),…"
      ]
     },
     "metadata": {},
     "output_type": "display_data"
    },
    {
     "name": "stdout",
     "output_type": "stream",
     "text": [
      "['50000 1000']"
     ]
    }
   ],
   "source": [
    "#Check dimensionality: n students, m exam grades\n",
    "applicants.take(1)"
   ]
  },
  {
   "cell_type": "code",
   "execution_count": 188,
   "id": "c896535d-dea3-40c4-bb39-80d60c5231e8",
   "metadata": {
    "execution": {
     "iopub.execute_input": "2022-11-20T20:17:43.406025Z",
     "iopub.status.busy": "2022-11-20T20:17:43.405797Z",
     "iopub.status.idle": "2022-11-20T20:17:44.174545Z",
     "shell.execute_reply": "2022-11-20T20:17:44.173958Z",
     "shell.execute_reply.started": "2022-11-20T20:17:43.406001Z"
    },
    "tags": []
   },
   "outputs": [
    {
     "data": {
      "application/vnd.jupyter.widget-view+json": {
       "model_id": "019bf97ace2b40818d2e2199c3565cfd",
       "version_major": 2,
       "version_minor": 0
      },
      "text/plain": [
       "VBox()"
      ]
     },
     "metadata": {},
     "output_type": "display_data"
    },
    {
     "data": {
      "application/vnd.jupyter.widget-view+json": {
       "model_id": "",
       "version_major": 2,
       "version_minor": 0
      },
      "text/plain": [
       "FloatProgress(value=0.0, bar_style='info', description='Progress:', layout=Layout(height='25px', width='50%'),…"
      ]
     },
     "metadata": {},
     "output_type": "display_data"
    }
   ],
   "source": [
    "#Memorize n and m\n",
    "n_students = int(applicants.take(1)[0].split(' ')[0])\n",
    "n_grades = int(applicants.take(1)[0].split(' ')[1])"
   ]
  },
  {
   "cell_type": "markdown",
   "id": "b7ff1964-ca6c-449a-871c-88bc5500f4b0",
   "metadata": {},
   "source": [
    "Get rid of the file header, as it only contains the number of rows and columns:"
   ]
  },
  {
   "cell_type": "code",
   "execution_count": 189,
   "id": "94875c15-23d2-49c8-89b7-758d49dbc293",
   "metadata": {
    "execution": {
     "iopub.execute_input": "2022-11-20T20:19:54.510135Z",
     "iopub.status.busy": "2022-11-20T20:19:54.509894Z",
     "iopub.status.idle": "2022-11-20T20:20:03.803815Z",
     "shell.execute_reply": "2022-11-20T20:20:03.803168Z",
     "shell.execute_reply.started": "2022-11-20T20:19:54.510112Z"
    },
    "tags": []
   },
   "outputs": [
    {
     "data": {
      "application/vnd.jupyter.widget-view+json": {
       "model_id": "0a7cb7ded4be49a884c64f00e27d7884",
       "version_major": 2,
       "version_minor": 0
      },
      "text/plain": [
       "VBox()"
      ]
     },
     "metadata": {},
     "output_type": "display_data"
    },
    {
     "data": {
      "application/vnd.jupyter.widget-view+json": {
       "model_id": "",
       "version_major": 2,
       "version_minor": 0
      },
      "text/plain": [
       "FloatProgress(value=0.0, bar_style='info', description='Progress:', layout=Layout(height='25px', width='50%'),…"
      ]
     },
     "metadata": {},
     "output_type": "display_data"
    }
   ],
   "source": [
    "firstline = applicants.first()\n",
    "applicants = applicants.filter(lambda row: row != firstline)"
   ]
  },
  {
   "cell_type": "markdown",
   "id": "1eb52af5-d1f3-4553-93ee-42ddbeaaa19c",
   "metadata": {},
   "source": [
    "### **First solution**\n",
    "This solution seems to work, but doesn't involve any `reduce` operations:"
   ]
  },
  {
   "cell_type": "code",
   "execution_count": 195,
   "id": "36b5d355-3857-402f-bbf5-c675b6ca84a6",
   "metadata": {
    "execution": {
     "iopub.execute_input": "2022-11-20T20:27:17.237718Z",
     "iopub.status.busy": "2022-11-20T20:27:17.237410Z",
     "iopub.status.idle": "2022-11-20T20:27:34.561575Z",
     "shell.execute_reply": "2022-11-20T20:27:34.560819Z",
     "shell.execute_reply.started": "2022-11-20T20:27:17.237681Z"
    },
    "tags": []
   },
   "outputs": [
    {
     "data": {
      "application/vnd.jupyter.widget-view+json": {
       "model_id": "3a6e9b72569549b6981efc93c00ff7df",
       "version_major": 2,
       "version_minor": 0
      },
      "text/plain": [
       "VBox()"
      ]
     },
     "metadata": {},
     "output_type": "display_data"
    },
    {
     "data": {
      "application/vnd.jupyter.widget-view+json": {
       "model_id": "",
       "version_major": 2,
       "version_minor": 0
      },
      "text/plain": [
       "FloatProgress(value=0.0, bar_style='info', description='Progress:', layout=Layout(height='25px', width='50%'),…"
      ]
     },
     "metadata": {},
     "output_type": "display_data"
    },
    {
     "name": "stdout",
     "output_type": "stream",
     "text": [
      "[('Emily Crispin', 24.492), ('Patricia Witten', 24.489), ('Doreen Richmond', 24.447), ('Bruce Johnson', 24.445), ('David Niederberger', 24.437)]"
     ]
    }
   ],
   "source": [
    "applicants.map(lambda row: (' '.join(row.split(' ')[:2]), [int(x) for x in row.split(' ')[2:]]))\\\n",
    ".map(lambda t: (t[0], sum(t[1])/n_grades))\\\n",
    ".takeOrdered(5, key = lambda t: -t[1])"
   ]
  },
  {
   "cell_type": "markdown",
   "id": "59193c01-48f9-4fda-ad4c-eaa031e54cf2",
   "metadata": {},
   "source": [
    "### **Second solution**\n",
    "To force the use of `reduce`, we reshape the RDD object in a list of tuples (name_of_student, grade), reduce them by summing all the grades of the same student, finally divide by the number of grades (that is fixed) and return first 5 students in order of average grades:"
   ]
  },
  {
   "cell_type": "code",
   "execution_count": 203,
   "id": "74390880-6071-4abb-a296-069691da3357",
   "metadata": {
    "execution": {
     "iopub.execute_input": "2022-11-20T21:01:08.105145Z",
     "iopub.status.busy": "2022-11-20T21:01:08.104909Z",
     "iopub.status.idle": "2022-11-20T21:01:41.467093Z",
     "shell.execute_reply": "2022-11-20T21:01:41.466486Z",
     "shell.execute_reply.started": "2022-11-20T21:01:08.105120Z"
    },
    "tags": []
   },
   "outputs": [
    {
     "data": {
      "application/vnd.jupyter.widget-view+json": {
       "model_id": "16531e8d07c24d2898b8cb27b048c034",
       "version_major": 2,
       "version_minor": 0
      },
      "text/plain": [
       "VBox()"
      ]
     },
     "metadata": {},
     "output_type": "display_data"
    },
    {
     "data": {
      "application/vnd.jupyter.widget-view+json": {
       "model_id": "",
       "version_major": 2,
       "version_minor": 0
      },
      "text/plain": [
       "FloatProgress(value=0.0, bar_style='info', description='Progress:', layout=Layout(height='25px', width='50%'),…"
      ]
     },
     "metadata": {},
     "output_type": "display_data"
    },
    {
     "name": "stdout",
     "output_type": "stream",
     "text": [
      "[('William Williams', 287.902), ('Michael Smith', 283.971), ('James Johnson', 244.221), ('Michael Martin', 241.382), ('Robert Johnson', 239.785)]"
     ]
    }
   ],
   "source": [
    "applicants.map(lambda row: (' '.join(row.split(' ')[:2]), [int(x) for x in row.split(' ')[2:]]))\\\n",
    ".flatMap(lambda t: [(t[0], t[1][i]) for i in t[1]])\\\n",
    ".reduceByKey(lambda a, b: a + b)\\\n",
    ".map(lambda t: (t[0], t[1]/n_grades))\\\n",
    ".takeOrdered(5, key = lambda t: -t[1])"
   ]
  },
  {
   "cell_type": "markdown",
   "id": "75a8b836-1bd3-4ee6-8aba-72929a0e0acc",
   "metadata": {},
   "source": [
    "Of course, the above values are not what we expected to see.\n",
    "\n",
    "We have the doubt that the file contains duplicated names of students, so we check how many unique names are there:"
   ]
  },
  {
   "cell_type": "code",
   "execution_count": 204,
   "id": "5155796c-a376-4d18-ad6e-bcb4ec362871",
   "metadata": {
    "execution": {
     "iopub.execute_input": "2022-11-20T21:02:15.144907Z",
     "iopub.status.busy": "2022-11-20T21:02:15.144652Z",
     "iopub.status.idle": "2022-11-20T21:02:26.435010Z",
     "shell.execute_reply": "2022-11-20T21:02:26.434328Z",
     "shell.execute_reply.started": "2022-11-20T21:02:15.144882Z"
    }
   },
   "outputs": [
    {
     "data": {
      "application/vnd.jupyter.widget-view+json": {
       "model_id": "e052345421a5432cadb40ebf199bfca7",
       "version_major": 2,
       "version_minor": 0
      },
      "text/plain": [
       "VBox()"
      ]
     },
     "metadata": {},
     "output_type": "display_data"
    },
    {
     "data": {
      "application/vnd.jupyter.widget-view+json": {
       "model_id": "",
       "version_major": 2,
       "version_minor": 0
      },
      "text/plain": [
       "FloatProgress(value=0.0, bar_style='info', description='Progress:', layout=Layout(height='25px', width='50%'),…"
      ]
     },
     "metadata": {},
     "output_type": "display_data"
    },
    {
     "name": "stdout",
     "output_type": "stream",
     "text": [
      "47581"
     ]
    }
   ],
   "source": [
    "applicants.map(lambda row: (' '.join(row.split(' ')[:2]), [int(x) for x in row.split(' ')[2:]]))\\\n",
    ".groupBy(lambda x: x[0]).distinct().count()"
   ]
  },
  {
   "cell_type": "markdown",
   "id": "955efd76-0659-4fca-96f7-1698f100fedf",
   "metadata": {},
   "source": [
    "If this is the case, it's a problem: in fact the function previously provided will sum together the grades of an unknown number of different people that share the same name. We thought about some possible solutions involving zipWithIndex(), but didn't manage to make it work. Below we report one of these failed attempts just for the record, as it didn't return any meaningful result."
   ]
  },
  {
   "cell_type": "code",
   "execution_count": 214,
   "id": "a276e49f-f64e-403f-8d36-40efa1d6a028",
   "metadata": {
    "execution": {
     "iopub.execute_input": "2022-11-20T21:16:15.219525Z",
     "iopub.status.busy": "2022-11-20T21:16:15.219129Z",
     "iopub.status.idle": "2022-11-20T21:22:51.485719Z",
     "shell.execute_reply": "2022-11-20T21:22:51.484983Z",
     "shell.execute_reply.started": "2022-11-20T21:16:15.219480Z"
    },
    "tags": []
   },
   "outputs": [
    {
     "data": {
      "application/vnd.jupyter.widget-view+json": {
       "model_id": "aa708f84016f46eab4939d96fde41682",
       "version_major": 2,
       "version_minor": 0
      },
      "text/plain": [
       "VBox()"
      ]
     },
     "metadata": {},
     "output_type": "display_data"
    },
    {
     "data": {
      "application/vnd.jupyter.widget-view+json": {
       "model_id": "",
       "version_major": 2,
       "version_minor": 0
      },
      "text/plain": [
       "FloatProgress(value=0.0, bar_style='info', description='Progress:', layout=Layout(height='25px', width='50%'),…"
      ]
     },
     "metadata": {},
     "output_type": "display_data"
    },
    {
     "name": "stdout",
     "output_type": "stream",
     "text": [
      "[(22320, ('Debra Amato', 0.03)), (222375, ('Leah Fields', 0.03)), (225843, ('John Reilly', 0.03)), (246780, ('Carmen Smith', 0.03)), (1007187, ('William Steege', 0.03))]"
     ]
    }
   ],
   "source": [
    "applicants.map(lambda row: (' '.join(row.split(' ')[:2]), [int(x) for x in row.split(' ')[2:]]))\\\n",
    ".flatMap(lambda t: [(t[0], t[1][i]) for i in t[1]]).zipWithIndex().map(lambda x: (x[1], x[0]))\\\n",
    ".reduceByKey(lambda a, b: a[1] + b[1])\\\n",
    ".map(lambda t: (t[0], (t[1][0], t[1][1]/n_grades)))\\\n",
    ".takeOrdered(5, key = lambda t: -t[1][1])"
   ]
  }
 ],
 "metadata": {
  "kernelspec": {
   "display_name": "PySpark",
   "language": "python",
   "name": "pysparkkernel"
  },
  "language_info": {
   "codemirror_mode": {
    "name": "python",
    "version": 3
   },
   "file_extension": ".py",
   "mimetype": "text/x-python",
   "name": "pyspark",
   "pygments_lexer": "python3"
  }
 },
 "nbformat": 4,
 "nbformat_minor": 5
}
